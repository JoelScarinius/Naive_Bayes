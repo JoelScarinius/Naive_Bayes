{
 "cells": [
  {
   "cell_type": "markdown",
   "metadata": {},
   "source": [
    "# Machine Learning - Assignment 1\n",
    "\n",
    "## Naive Bayes Learning algorithm, Cross-validation, and ROC-Curves"
   ]
  },
  {
   "cell_type": "markdown",
   "metadata": {},
   "source": [
    "The aim of the assignment is to implement:\n",
    "\n",
    "* Naive Bayes learning algorithm for binary classification tasks\n",
    "* Visualization to plot a ROC-curve\n",
    "* A cross-validation test\n",
    "* Visualization of the average ROC-curve of a cross-validation test\n",
    "\n",
    "Follow the instructions and implement what is missing to complete the assignment. Some functions have been started to help you a little bit with the inputs or outputs of the function.\n",
    "\n",
    "**Note:** You might need to go back and forth during your implementation of the code. The structure is set up to make implementation easier, but how you return values from the different functions might vary, and you might find yourself going back and change something to make it easier later on."
   ]
  },
  {
   "cell_type": "markdown",
   "metadata": {},
   "source": [
    "## Assignment preparations"
   ]
  },
  {
   "cell_type": "markdown",
   "metadata": {},
   "source": [
    "We help you out with importing the libraries and reading the data.\n",
    "\n",
    "Look at the output to get an idea of how the data is structured."
   ]
  },
  {
   "cell_type": "code",
   "execution_count": 1,
   "metadata": {},
   "outputs": [
    {
     "name": "stdout",
     "output_type": "stream",
     "text": [
      "Full data array (features and labels):\n",
      "[[5.1 3.5 1.4 0.2 0]\n",
      " [4.9 3.0 1.4 0.2 0]\n",
      " [4.7 3.2 1.3 0.2 0]]\n",
      "\n",
      "###############\n",
      "\n",
      "Train features (first 4 columns):\n",
      "[[5.1 3.5 1.4 0.2]\n",
      " [4.9 3.0 1.4 0.2]\n",
      " [4.7 3.2 1.3 0.2]]\n",
      "\n",
      "Labels (last column):\n",
      "[[0]\n",
      " [0]\n",
      " [0]]\n",
      "\n",
      "Names of labels:\n",
      "[[0, 'Iris-setosa'], [1, 'Iris-versicolor'], [2, 'Iris-virginica']]\n"
     ]
    }
   ],
   "source": [
    "import numpy as np\n",
    "import pandas as pd\n",
    "import matplotlib.pyplot as plt\n",
    "\n",
    "from math import e, pi, sqrt\n",
    "\n",
    "data = pd.read_csv(\"iris.csv\").to_numpy()\n",
    "\n",
    "mapped, index, unique_arr = np.unique(data[:, -1], return_index=True, return_inverse=True)\n",
    "data[:, -1] = unique_arr\n",
    "iris_setosa, iris_versicolor, iris_virginica = np.split(data, index[1:])\n",
    "\n",
    "print(f\"Full data array (features and labels):\\n{iris_setosa[:3]}\\n\")\n",
    "print(\"###############\\n\")\n",
    "print(f\"Train features (first 4 columns):\\n{iris_setosa[:3, :-1]}\\n\")\n",
    "print(f\"Labels (last column):\\n{iris_setosa[:3, -1:]}\\n\")\n",
    "print(f\"Names of labels:\\n{[[numb, name] for numb, name in enumerate(mapped)]}\")"
   ]
  },
  {
   "cell_type": "code",
   "execution_count": 2,
   "metadata": {},
   "outputs": [
    {
     "data": {
      "text/plain": [
       "array([[5.1, 3.5, 1.4, 0.2, 0],\n",
       "       [4.9, 3.0, 1.4, 0.2, 0],\n",
       "       [4.7, 3.2, 1.3, 0.2, 0]], dtype=object)"
      ]
     },
     "execution_count": 2,
     "metadata": {},
     "output_type": "execute_result"
    }
   ],
   "source": [
    "# Example print of the 3 first datapoints (similar as above):\n",
    "iris_setosa[:3]"
   ]
  },
  {
   "cell_type": "markdown",
   "metadata": {},
   "source": [
    "## Data handling functions\n",
    "\n",
    "As a start, we are going to implement some basic data handling functions to use in the future."
   ]
  },
  {
   "cell_type": "markdown",
   "metadata": {},
   "source": [
    "### 1) Split class into a train and test set\n",
    "\n",
    "First, we need to be able to split the class into a train and test set."
   ]
  },
  {
   "cell_type": "code",
   "execution_count": 3,
   "metadata": {},
   "outputs": [],
   "source": [
    "def train_test_split(class_data):\n",
    "    \n",
    "    # TODO: Split the data into two parts, train and test.\n",
    "    # Numpy has some functionality that makes implementing this part easier.\n",
    "\n",
    "    # NOTE: Use seed if we want the same datasets all the time\n",
    "    rng = np.random.default_rng()\n",
    "    \n",
    "    # Shuffle data first\n",
    "    shuffled_data = rng.permutation(class_data)\n",
    "\n",
    "    # Calculate the splits: 25% test 75% train\n",
    "    test_size = 0.25\n",
    "    test_data_size = int(len(shuffled_data) * test_size)\n",
    "\n",
    "    # Split the data\n",
    "    train = shuffled_data[test_data_size:]\n",
    "    test = shuffled_data[:test_data_size]\n",
    "    \n",
    "    return train, test"
   ]
  },
  {
   "cell_type": "code",
   "execution_count": 4,
   "metadata": {},
   "outputs": [
    {
     "name": "stdout",
     "output_type": "stream",
     "text": [
      "TEST SPLIT:\n",
      "[[5.1 3.8 1.5 0.3 0]\n",
      " [5.0 3.4 1.6 0.4 0]\n",
      " [4.4 2.9 1.4 0.2 0]\n",
      " [5.5 3.5 1.3 0.2 0]\n",
      " [4.3 3.0 1.1 0.1 0]\n",
      " [4.9 3.0 1.4 0.2 0]\n",
      " [5.7 3.8 1.7 0.3 0]\n",
      " [4.6 3.1 1.5 0.2 0]\n",
      " [4.5 2.3 1.3 0.3 0]\n",
      " [5.1 3.5 1.4 0.2 0]\n",
      " [5.4 3.4 1.5 0.4 0]\n",
      " [5.2 3.4 1.4 0.2 0]]\n",
      "\n",
      "TRAIN SPLIT:\n",
      "[[4.9 3.1 1.5 0.1 0]\n",
      " [5.1 3.7 1.5 0.4 0]\n",
      " [5.1 3.4 1.5 0.2 0]\n",
      " [5.4 3.9 1.7 0.4 0]\n",
      " [5.2 4.1 1.5 0.1 0]\n",
      " [5.0 3.3 1.4 0.2 0]\n",
      " [5.3 3.7 1.5 0.2 0]\n",
      " [4.6 3.4 1.4 0.3 0]\n",
      " [5.4 3.7 1.5 0.2 0]\n",
      " [4.8 3.1 1.6 0.2 0]\n",
      " [5.4 3.4 1.7 0.2 0]\n",
      " [4.4 3.2 1.3 0.2 0]\n",
      " [4.7 3.2 1.3 0.2 0]\n",
      " [5.0 3.6 1.4 0.2 0]\n",
      " [5.7 4.4 1.5 0.4 0]\n",
      " [5.1 3.8 1.9 0.4 0]\n",
      " [5.1 3.3 1.7 0.5 0]\n",
      " [5.0 3.4 1.5 0.2 0]\n",
      " [4.8 3.4 1.6 0.2 0]\n",
      " [5.1 3.5 1.4 0.3 0]\n",
      " [5.0 3.5 1.3 0.3 0]\n",
      " [5.2 3.5 1.5 0.2 0]\n",
      " [5.0 3.5 1.6 0.6 0]\n",
      " [4.6 3.2 1.4 0.2 0]\n",
      " [5.0 3.2 1.2 0.2 0]\n",
      " [4.8 3.0 1.4 0.3 0]\n",
      " [4.8 3.0 1.4 0.1 0]\n",
      " [4.9 3.1 1.5 0.1 0]\n",
      " [5.1 3.8 1.6 0.2 0]\n",
      " [4.7 3.2 1.6 0.2 0]\n",
      " [5.0 3.0 1.6 0.2 0]\n",
      " [4.6 3.6 1.0 0.2 0]\n",
      " [5.5 4.2 1.4 0.2 0]\n",
      " [4.9 3.1 1.5 0.1 0]\n",
      " [4.4 3.0 1.3 0.2 0]\n",
      " [5.8 4.0 1.2 0.2 0]\n",
      " [5.4 3.9 1.3 0.4 0]\n",
      " [4.8 3.4 1.9 0.2 0]]\n",
      "\n",
      "SIZE OF TEST SPLIT: 12\n",
      "\n",
      "SIZE OF TRAIN SPLIT: 38\n",
      "\n",
      "SIZE OF CLASS: 50\n",
      "TEST SIZE (%): 24.0 %\n",
      "TRAIN SIZE (%): 76.0 %\n"
     ]
    }
   ],
   "source": [
    "# TODO: Test the train_test_split function\n",
    "train, test = train_test_split(iris_setosa)\n",
    "\n",
    "size_test = len(test)\n",
    "size_train = len(train)\n",
    "size_class = len(iris_setosa)\n",
    "# TODO: Print the output\n",
    "print(f\"TEST SPLIT:\\n{test}\\n\\nTRAIN SPLIT:\\n{train}\")\n",
    "print(f\"\\nSIZE OF TEST SPLIT: {size_test}\")\n",
    "print(f\"\\nSIZE OF TRAIN SPLIT: {size_train}\")\n",
    "print(f\"\\nSIZE OF CLASS: {size_class}\")\n",
    "print(f\"TEST SIZE (%): {size_test / size_class * 100} %\")\n",
    "print(f\"TRAIN SIZE (%): {size_train / size_class * 100} %\")"
   ]
  },
  {
   "cell_type": "markdown",
   "metadata": {},
   "source": [
    "### 2) Split data into features and labels\n",
    "\n",
    "The data as shown above is not always the optimal shape. To help us keep track of things, we can split the data into its features and labels seperately.\n",
    "\n",
    "Each class is 4 features and 1 label in the same array: \n",
    "\n",
    "* **[feature 1, feature 2, feature 3, feature 4, label]**\n",
    "\n",
    "It would help us later to have the features and labels in seperate arrays in the form: \n",
    "\n",
    "* **[feature 1, feature 2, feature 3, feature 4]** and **[label]**\n",
    "\n",
    "Here you are going to implement this functionallity."
   ]
  },
  {
   "cell_type": "code",
   "execution_count": 5,
   "metadata": {},
   "outputs": [],
   "source": [
    "def class_split(class_data):\n",
    "\n",
    "\t# TODO: Split one class into its features and labels\n",
    "\tfeatures, labels = class_data[:, :4].astype(np.float64), class_data[:, -1:]\n",
    "\n",
    "\treturn features, labels"
   ]
  },
  {
   "cell_type": "markdown",
   "metadata": {},
   "source": [
    "We should first test the \"**class_split**\" function on one of the classes above (iris_setosa, etc...) to make sure it works properly."
   ]
  },
  {
   "cell_type": "code",
   "execution_count": 6,
   "metadata": {},
   "outputs": [
    {
     "name": "stdout",
     "output_type": "stream",
     "text": [
      "FEATURES:\n",
      "[[5.1 3.5 1.4 0.2]\n",
      " [4.9 3.  1.4 0.2]\n",
      " [4.7 3.2 1.3 0.2]\n",
      " [4.6 3.1 1.5 0.2]\n",
      " [5.  3.6 1.4 0.2]\n",
      " [5.4 3.9 1.7 0.4]\n",
      " [4.6 3.4 1.4 0.3]\n",
      " [5.  3.4 1.5 0.2]\n",
      " [4.4 2.9 1.4 0.2]\n",
      " [4.9 3.1 1.5 0.1]\n",
      " [5.4 3.7 1.5 0.2]\n",
      " [4.8 3.4 1.6 0.2]\n",
      " [4.8 3.  1.4 0.1]\n",
      " [4.3 3.  1.1 0.1]\n",
      " [5.8 4.  1.2 0.2]\n",
      " [5.7 4.4 1.5 0.4]\n",
      " [5.4 3.9 1.3 0.4]\n",
      " [5.1 3.5 1.4 0.3]\n",
      " [5.7 3.8 1.7 0.3]\n",
      " [5.1 3.8 1.5 0.3]\n",
      " [5.4 3.4 1.7 0.2]\n",
      " [5.1 3.7 1.5 0.4]\n",
      " [4.6 3.6 1.  0.2]\n",
      " [5.1 3.3 1.7 0.5]\n",
      " [4.8 3.4 1.9 0.2]\n",
      " [5.  3.  1.6 0.2]\n",
      " [5.  3.4 1.6 0.4]\n",
      " [5.2 3.5 1.5 0.2]\n",
      " [5.2 3.4 1.4 0.2]\n",
      " [4.7 3.2 1.6 0.2]\n",
      " [4.8 3.1 1.6 0.2]\n",
      " [5.4 3.4 1.5 0.4]\n",
      " [5.2 4.1 1.5 0.1]\n",
      " [5.5 4.2 1.4 0.2]\n",
      " [4.9 3.1 1.5 0.1]\n",
      " [5.  3.2 1.2 0.2]\n",
      " [5.5 3.5 1.3 0.2]\n",
      " [4.9 3.1 1.5 0.1]\n",
      " [4.4 3.  1.3 0.2]\n",
      " [5.1 3.4 1.5 0.2]\n",
      " [5.  3.5 1.3 0.3]\n",
      " [4.5 2.3 1.3 0.3]\n",
      " [4.4 3.2 1.3 0.2]\n",
      " [5.  3.5 1.6 0.6]\n",
      " [5.1 3.8 1.9 0.4]\n",
      " [4.8 3.  1.4 0.3]\n",
      " [5.1 3.8 1.6 0.2]\n",
      " [4.6 3.2 1.4 0.2]\n",
      " [5.3 3.7 1.5 0.2]\n",
      " [5.  3.3 1.4 0.2]]\n",
      "\n",
      "LABELS:\n",
      "[[0]\n",
      " [0]\n",
      " [0]\n",
      " [0]\n",
      " [0]\n",
      " [0]\n",
      " [0]\n",
      " [0]\n",
      " [0]\n",
      " [0]\n",
      " [0]\n",
      " [0]\n",
      " [0]\n",
      " [0]\n",
      " [0]\n",
      " [0]\n",
      " [0]\n",
      " [0]\n",
      " [0]\n",
      " [0]\n",
      " [0]\n",
      " [0]\n",
      " [0]\n",
      " [0]\n",
      " [0]\n",
      " [0]\n",
      " [0]\n",
      " [0]\n",
      " [0]\n",
      " [0]\n",
      " [0]\n",
      " [0]\n",
      " [0]\n",
      " [0]\n",
      " [0]\n",
      " [0]\n",
      " [0]\n",
      " [0]\n",
      " [0]\n",
      " [0]\n",
      " [0]\n",
      " [0]\n",
      " [0]\n",
      " [0]\n",
      " [0]\n",
      " [0]\n",
      " [0]\n",
      " [0]\n",
      " [0]\n",
      " [0]]\n"
     ]
    }
   ],
   "source": [
    "# TODO: Test the class splitting function\n",
    "features, labels = class_split(iris_setosa)\n",
    "\n",
    "# TODO: Print the output\n",
    "print(f\"FEATURES:\\n{features}\\n\\nLABELS:\\n{labels}\")\n"
   ]
  },
  {
   "cell_type": "markdown",
   "metadata": {},
   "source": [
    "We should also try to **1)** first split a class into a train and test set, **2)** split each of these two into features and labels. In total there should be 4 arrays (2 feature and 2 label arrays)."
   ]
  },
  {
   "cell_type": "code",
   "execution_count": 7,
   "metadata": {},
   "outputs": [
    {
     "name": "stdout",
     "output_type": "stream",
     "text": [
      "TRAIN FEATURES:\n",
      "[[4.7 3.2 1.6 0.2]\n",
      " [4.9 3.  1.4 0.2]\n",
      " [5.1 3.5 1.4 0.3]\n",
      " [4.6 3.6 1.  0.2]\n",
      " [5.1 3.8 1.5 0.3]\n",
      " [4.5 2.3 1.3 0.3]\n",
      " [5.  3.2 1.2 0.2]\n",
      " [4.8 3.4 1.9 0.2]\n",
      " [5.  3.5 1.6 0.6]\n",
      " [4.7 3.2 1.3 0.2]\n",
      " [4.8 3.  1.4 0.1]\n",
      " [5.  3.6 1.4 0.2]\n",
      " [4.4 3.  1.3 0.2]\n",
      " [4.9 3.1 1.5 0.1]\n",
      " [5.4 3.4 1.7 0.2]\n",
      " [4.4 3.2 1.3 0.2]\n",
      " [5.5 4.2 1.4 0.2]\n",
      " [4.3 3.  1.1 0.1]\n",
      " [5.  3.4 1.5 0.2]\n",
      " [5.1 3.5 1.4 0.2]\n",
      " [5.8 4.  1.2 0.2]\n",
      " [5.1 3.3 1.7 0.5]\n",
      " [5.5 3.5 1.3 0.2]\n",
      " [4.6 3.4 1.4 0.3]\n",
      " [5.2 4.1 1.5 0.1]\n",
      " [5.  3.3 1.4 0.2]\n",
      " [4.6 3.2 1.4 0.2]\n",
      " [5.3 3.7 1.5 0.2]\n",
      " [5.2 3.5 1.5 0.2]\n",
      " [5.  3.  1.6 0.2]\n",
      " [5.1 3.8 1.6 0.2]\n",
      " [4.8 3.4 1.6 0.2]\n",
      " [4.8 3.  1.4 0.3]\n",
      " [5.1 3.7 1.5 0.4]\n",
      " [5.7 4.4 1.5 0.4]\n",
      " [5.1 3.8 1.9 0.4]\n",
      " [5.4 3.4 1.5 0.4]\n",
      " [5.4 3.7 1.5 0.2]]\n",
      "\n",
      "TRAIN LABELS:\n",
      "[[0]\n",
      " [0]\n",
      " [0]\n",
      " [0]\n",
      " [0]\n",
      " [0]\n",
      " [0]\n",
      " [0]\n",
      " [0]\n",
      " [0]\n",
      " [0]\n",
      " [0]\n",
      " [0]\n",
      " [0]\n",
      " [0]\n",
      " [0]\n",
      " [0]\n",
      " [0]\n",
      " [0]\n",
      " [0]\n",
      " [0]\n",
      " [0]\n",
      " [0]\n",
      " [0]\n",
      " [0]\n",
      " [0]\n",
      " [0]\n",
      " [0]\n",
      " [0]\n",
      " [0]\n",
      " [0]\n",
      " [0]\n",
      " [0]\n",
      " [0]\n",
      " [0]\n",
      " [0]\n",
      " [0]\n",
      " [0]]\n",
      "\n",
      "TEST FEATURES:\n",
      "[[4.9 3.1 1.5 0.1]\n",
      " [5.7 3.8 1.7 0.3]\n",
      " [5.2 3.4 1.4 0.2]\n",
      " [4.4 2.9 1.4 0.2]\n",
      " [5.4 3.9 1.3 0.4]\n",
      " [5.1 3.4 1.5 0.2]\n",
      " [5.  3.5 1.3 0.3]\n",
      " [5.  3.4 1.6 0.4]\n",
      " [4.6 3.1 1.5 0.2]\n",
      " [4.9 3.1 1.5 0.1]\n",
      " [4.8 3.1 1.6 0.2]\n",
      " [5.4 3.9 1.7 0.4]]\n",
      "\n",
      "TEST LABELS:\n",
      "[[0]\n",
      " [0]\n",
      " [0]\n",
      " [0]\n",
      " [0]\n",
      " [0]\n",
      " [0]\n",
      " [0]\n",
      " [0]\n",
      " [0]\n",
      " [0]\n",
      " [0]]\n"
     ]
    }
   ],
   "source": [
    "# TODO: Use the above data handling functions to make 2 feature arrays and 2 label arrays. \n",
    "train, test = train_test_split(iris_setosa)\n",
    "train_features, train_labels = class_split(train)\n",
    "test_features, test_labels = class_split(test)\n",
    "\n",
    "# TODO: Print the output (you may use multiple print-statements if you wish)\n",
    "print(f\"TRAIN FEATURES:\\n{train_features}\\n\\nTRAIN LABELS:\\n{train_labels}\")\n",
    "print(f\"\\nTEST FEATURES:\\n{test_features}\\n\\nTEST LABELS:\\n{test_labels}\")"
   ]
  },
  {
   "cell_type": "markdown",
   "metadata": {},
   "source": [
    "Think a bit before going to the next task, what can easily go wrong in the above code?"
   ]
  },
  {
   "cell_type": "markdown",
   "metadata": {},
   "source": [
    "## Naive Bayes learning algorithm"
   ]
  },
  {
   "cell_type": "markdown",
   "metadata": {},
   "source": [
    "When implementing the Navie Bayes learning algorithm, we can break it down into a few components.\n",
    "\n",
    "We will implement these components one at a time."
   ]
  },
  {
   "cell_type": "markdown",
   "metadata": {},
   "source": [
    "### 3) Calculate feature statistics\n",
    "\n",
    "First, we need to implement a function that returns feature statistics (means, standard deviation, priors) for a given set of feature data for a single class. This is the equivalent of \"training\" the naive bayes model.\n",
    "\n",
    "**Note 1:** Each feature gets its own mean and standard deviation!\n",
    "\n",
    "**Note 2:** The way you structure the functions (what is returned) shapes the remainder of the assignment."
   ]
  },
  {
   "cell_type": "code",
   "execution_count": 8,
   "metadata": {},
   "outputs": [],
   "source": [
    "def calculate_feature_statistics(feature_data, size):\n",
    "\t# TODO: Complete this function so that it returns the feature statistics for the input data.\n",
    "\tmeans = np.mean(feature_data, axis=0)\n",
    "\tstdevs = np.std(feature_data, axis=0)\n",
    "\n",
    "\tprior = feature_data.shape[0] / size\n",
    "\t\n",
    "\treturn {\n",
    "\t\t'means': means, \n",
    "\t\t'stdevs': stdevs, \n",
    "\t\t'prior': prior\n",
    "\t} # You choose how you return the statistics"
   ]
  },
  {
   "cell_type": "markdown",
   "metadata": {},
   "source": [
    "To make sure the function works, we should test it before proceding."
   ]
  },
  {
   "cell_type": "code",
   "execution_count": 9,
   "metadata": {},
   "outputs": [
    {
     "name": "stdout",
     "output_type": "stream",
     "text": [
      "Means: [5.006 3.418 1.464 0.244]\n",
      "Standard Deviations: [0.34894699 0.37719491 0.17176728 0.10613199]\n",
      "Prior: 1.0\n"
     ]
    }
   ],
   "source": [
    "# TODO: Make sure to use our previous class splitting function.\n",
    "feature_data, _ = class_split(iris_setosa)\n",
    "\n",
    "# TODO: Test the function here for one of the dataset classes. \n",
    "\n",
    "feature_statistics = calculate_feature_statistics(feature_data, len(iris_setosa))\n",
    "\n",
    "# TODO: Print the output from the feature statistic function.\n",
    "print(\"Means:\", feature_statistics['means'])\n",
    "print(\"Standard Deviations:\", feature_statistics['stdevs'])\n",
    "print(\"Prior:\", feature_statistics['prior']) "
   ]
  },
  {
   "cell_type": "markdown",
   "metadata": {},
   "source": [
    "### 4) Gaussian probability density function (Gaussian PDF)\n",
    "\n",
    "Now we need to implement the gaussian probability density function to use for a single datapoint.\n",
    "\n",
    "**Note:** Look at the imports in the first cell at the top, it has some math numbers for easy use here. "
   ]
  },
  {
   "cell_type": "code",
   "execution_count": 10,
   "metadata": {},
   "outputs": [],
   "source": [
    "def gaussian_probability_density_function(x, means, stdevs):\n",
    "\t\n",
    "\tnumerator = e**(-0.5 * ((x - means) / stdevs)**2)\n",
    "\tdenominator = sqrt(2 * pi) * stdevs\n",
    "\treturn numerator / denominator # TODO: Implement the gaussian probability density function.\n"
   ]
  },
  {
   "cell_type": "markdown",
   "metadata": {},
   "source": [
    "### 5) Testing Gaussian PDF"
   ]
  },
  {
   "cell_type": "markdown",
   "metadata": {},
   "source": [
    "We should test it to make sure it works. Train it, using the \"calculate_feature_statistics\" function, on one of the dataset classes. Then, take one datapoint from the same class and use naive bayes gaussian to make a prediction."
   ]
  },
  {
   "cell_type": "code",
   "execution_count": 11,
   "metadata": {},
   "outputs": [
    {
     "name": "stdout",
     "output_type": "stream",
     "text": [
      "[1.1025365  1.03295597 2.16682262 3.44938415]\n"
     ]
    }
   ],
   "source": [
    "# TODO: Implement the code below to test the \"gaussian_probability_density_function\" function for one of the classes.\n",
    "feature_data, _ = class_split(iris_setosa)\n",
    "\n",
    "feature_statistics = calculate_feature_statistics(feature_data, len(iris_setosa))\n",
    "\n",
    "# TODO: Test with one datapoint from the learned class.\n",
    "data_point = feature_data[0]\n",
    "prob_density = gaussian_probability_density_function(data_point, feature_statistics['means'], feature_statistics['stdevs'])\n",
    "\n",
    "# TODO: Print the probability density\n",
    "print(prob_density)"
   ]
  },
  {
   "cell_type": "markdown",
   "metadata": {},
   "source": [
    "As a test, take one datapoint from one of the other classes and see if the predicted probability changes."
   ]
  },
  {
   "cell_type": "code",
   "execution_count": 12,
   "metadata": {},
   "outputs": [
    {
     "name": "stdout",
     "output_type": "stream",
     "text": [
      "[0.08932957 0.49269573 0.54829328 1.89734864]\n"
     ]
    }
   ],
   "source": [
    "# TODO: Take one datapoint from one of the other classes.\n",
    "feature_data, _ = class_split(iris_versicolor)\n",
    "\n",
    "feature_statistics = calculate_feature_statistics(feature_data, len(iris_versicolor))\n",
    "\n",
    "other_class_datapoint = feature_data[0]\n",
    "\n",
    "# TODO: Use naive bayes gaussian on this datapoint with the same feature statistics as the first class.\n",
    "prob_density = gaussian_probability_density_function(other_class_datapoint, feature_statistics['means'], feature_statistics['stdevs'])\n",
    "\n",
    "# TODO: Print the probability density\n",
    "print(prob_density)"
   ]
  },
  {
   "cell_type": "markdown",
   "metadata": {},
   "source": [
    "Think a bit why the probability changes, what could affect the prediction?"
   ]
  },
  {
   "cell_type": "markdown",
   "metadata": {},
   "source": [
    "## Prepare Naive Bayes for binary classification"
   ]
  },
  {
   "cell_type": "markdown",
   "metadata": {},
   "source": [
    "### 6) Prepare the data for inference\n",
    "\n",
    "Before we train and test the naive bayes for multiple classes, we should get our data in order.\n",
    "\n",
    "Similar to how we did previously, we should now split two classes into a train and test set, you may choose which two classes freely."
   ]
  },
  {
   "cell_type": "code",
   "execution_count": 13,
   "metadata": {},
   "outputs": [],
   "source": [
    "# TODO: Split two classes into train and test sets.\n",
    "train_versicolor, test_versicolor = train_test_split(iris_versicolor)\n",
    "train_setosa, test_setosa = train_test_split(iris_setosa)\n",
    "\n",
    "# TODO: Separate the features and labels for both the train and test set.\n",
    "feature_data_setosa_train, labels_setosa_train = class_split(train_setosa)\n",
    "feature_data_setosa_test, labels_setosa_test = class_split(test_setosa)\n",
    "feature_data_versicolor_train, labels_versicolor_train = class_split(train_versicolor)\n",
    "feature_data_versicolor_test, labels_versicolor_test = class_split(test_versicolor)"
   ]
  },
  {
   "cell_type": "markdown",
   "metadata": {},
   "source": [
    "### 7) Class A vs Class B for binary classification\n",
    "\n",
    "**Note:** You might need to go back and forth a bit in the following cells during your implementation of your code.\n",
    "\n",
    "We have to get the probability from two sets of classes and compare the two probabilities in order to make a proper prediction.\n",
    "\n",
    "Here we will implement two functions to make this possible. We separate these functions to make the implementation of the ROC-curve easier later on.\n",
    "\n",
    "**Function 1: naive_bayes_prediction** \n",
    "* A function that returns the probabilities for each class the model for a single datapoint.\n",
    "\n",
    "**Function 2: probabilities_to_prediction**\n",
    "* A function that takes in probabilities and returns a prediction."
   ]
  },
  {
   "cell_type": "code",
   "execution_count": 14,
   "metadata": {},
   "outputs": [],
   "source": [
    "def naive_bayes_prediction(feature_stats, data_point):\n",
    "\tprediction_probabilities = {}\n",
    "\n",
    "\tfor class_label, feature_statistics in feature_stats.items():\n",
    "\t\t# print(f\"Class Label: {class_label}\")\n",
    "\t\t# print(f\"Means: {feature_statistics['means']}\")\n",
    "\t\t# print(f\"Standard Deviations: {feature_statistics['stdevs']}\")\n",
    "\t\t# print(f\"Prior: {feature_statistics['prior']}\")\n",
    "\t\tprob_density = gaussian_probability_density_function(data_point, feature_statistics['means'], feature_statistics['stdevs'])\n",
    "\t\t# print(np.prod(prob_density))\n",
    "\t\tprobability = np.prod(prob_density)\n",
    "\t\t# print(probability)\n",
    "\t\tprobability = probability * feature_statistics['prior']\n",
    "\t\tprediction_probabilities[class_label] = probability\n",
    "\n",
    "\tprediction_probabilities['0'] = (prediction_probabilities['0'] / (prediction_probabilities['0'] + prediction_probabilities['1']))\n",
    "\tprediction_probabilities['1'] = (prediction_probabilities['1'] / (prediction_probabilities['0'] + prediction_probabilities['1']))\n",
    "\treturn prediction_probabilities"
   ]
  },
  {
   "cell_type": "code",
   "execution_count": 15,
   "metadata": {},
   "outputs": [],
   "source": [
    "def probabilities_to_prediction(probabilities):\n",
    "\n",
    "\t# TODO: Implement prediction of the class with the highest probability\n",
    "\tclass_prediction = max(probabilities, key=probabilities.get)\n",
    "\treturn class_prediction"
   ]
  },
  {
   "cell_type": "markdown",
   "metadata": {},
   "source": [
    "To test the function we need the feature metrics from the classes we choose. \n",
    "\n",
    "**Note:** Choose the correct train/test set and the correct feature/label split!"
   ]
  },
  {
   "cell_type": "code",
   "execution_count": 16,
   "metadata": {},
   "outputs": [],
   "source": [
    "# TODO: Get the feature metrics for the classes\n",
    "feature_statistics_setosa = calculate_feature_statistics(feature_data_setosa_train, (len(feature_data_versicolor_train) + len(feature_data_setosa_train)))\n",
    "feature_statistics_versicolor = calculate_feature_statistics(feature_data_versicolor_train, (len(feature_data_versicolor_train) + len(feature_data_setosa_train)))"
   ]
  },
  {
   "cell_type": "markdown",
   "metadata": {},
   "source": [
    "Now we should have implemented all the neccessary parts to train a naive bayes algorithm and do inference on it. Implement a small test workflow for two of your chosen classes."
   ]
  },
  {
   "cell_type": "code",
   "execution_count": 17,
   "metadata": {},
   "outputs": [
    {
     "name": "stdout",
     "output_type": "stream",
     "text": [
      "[{'0': np.float64(1.0), '1': np.float64(2.0944643643970277e-19)}, {'0': np.float64(1.0), '1': np.float64(2.2404544042329128e-20)}, {'0': np.float64(1.0), '1': np.float64(1.2483996535304013e-19)}, {'0': np.float64(1.0), '1': np.float64(1.4914020406187556e-24)}, {'0': np.float64(0.999999999999524), '1': np.float64(2.945160636319873e-14)}, {'0': np.float64(1.0), '1': np.float64(1.1305978518465375e-21)}, {'0': np.float64(1.0), '1': np.float64(4.301772078397393e-23)}, {'0': np.float64(1.0), '1': np.float64(1.722507943213461e-18)}, {'0': np.float64(0.9999999999999494), '1': np.float64(9.35696391804293e-16)}, {'0': np.float64(0.9999999999999998), '1': np.float64(1.6875574551452288e-17)}, {'0': np.float64(0.9999999999999998), '1': np.float64(2.4983494183290447e-16)}, {'0': np.float64(1.0), '1': np.float64(1.9265551279437447e-20)}, {'0': np.float64(7.659022018585852e-129), '1': np.float64(1.0)}, {'0': np.float64(6.753761440034858e-122), '1': np.float64(1.0)}, {'0': np.float64(7.351680855644392e-137), '1': np.float64(1.0)}, {'0': np.float64(8.169769885302992e-95), '1': np.float64(1.0)}, {'0': np.float64(4.6344162097890746e-85), '1': np.float64(1.0)}, {'0': np.float64(9.842800994663278e-42), '1': np.float64(1.0)}, {'0': np.float64(1.6349639888335613e-76), '1': np.float64(1.0)}, {'0': np.float64(5.6589710887840165e-90), '1': np.float64(1.0)}, {'0': np.float64(1.0724276711562623e-74), '1': np.float64(1.0)}, {'0': np.float64(5.175669819919961e-121), '1': np.float64(1.0)}, {'0': np.float64(1.568379240777973e-35), '1': np.float64(1.0)}, {'0': np.float64(5.421819555138088e-59), '1': np.float64(1.0)}]\n",
      "Predicted class: 0 Actual class: 0\n",
      "Predicted class: 0 Actual class: 0\n",
      "Predicted class: 0 Actual class: 0\n",
      "Predicted class: 0 Actual class: 0\n",
      "Predicted class: 0 Actual class: 0\n",
      "Predicted class: 0 Actual class: 0\n",
      "Predicted class: 0 Actual class: 0\n",
      "Predicted class: 0 Actual class: 0\n",
      "Predicted class: 0 Actual class: 0\n",
      "Predicted class: 0 Actual class: 0\n",
      "Predicted class: 0 Actual class: 0\n",
      "Predicted class: 0 Actual class: 0\n",
      "Predicted class: 1 Actual class: 1\n",
      "Predicted class: 1 Actual class: 1\n",
      "Predicted class: 1 Actual class: 1\n",
      "Predicted class: 1 Actual class: 1\n",
      "Predicted class: 1 Actual class: 1\n",
      "Predicted class: 1 Actual class: 1\n",
      "Predicted class: 1 Actual class: 1\n",
      "Predicted class: 1 Actual class: 1\n",
      "Predicted class: 1 Actual class: 1\n",
      "Predicted class: 1 Actual class: 1\n",
      "Predicted class: 1 Actual class: 1\n",
      "Predicted class: 1 Actual class: 1\n"
     ]
    }
   ],
   "source": [
    "# TODO: Test the \"naive_bayes_prediction\" function and implement all necessary code for it to work.\n",
    "test_labels = np.append(labels_setosa_test, labels_versicolor_test)\n",
    "test_features = np.concatenate((feature_data_setosa_test, feature_data_versicolor_test), axis=0)\n",
    "\n",
    "class_statistics = {\n",
    "\t\"0\": feature_statistics_setosa,\n",
    "\t\"1\": feature_statistics_versicolor\n",
    "}\n",
    "\n",
    "# Get the predicted probabilities for each data point\n",
    "prediction_probabilities = [naive_bayes_prediction(class_statistics, data_point) for data_point in test_features]\n",
    "\n",
    "print(prediction_probabilities)\n",
    "\n",
    "\n",
    "predicted_class = [probabilities_to_prediction(class_probabilities) for class_probabilities in prediction_probabilities]\n",
    "# TODO: Print the predicted class and the actual class for the test set\n",
    "for pred_class, label in zip(predicted_class, test_labels):\n",
    "\tprint(f\"Predicted class: {pred_class} Actual class: {label}\")"
   ]
  },
  {
   "cell_type": "markdown",
   "metadata": {},
   "source": [
    "## ROC-curve\n",
    "\n",
    "A ROC curve, or *Receiver Operating Characteristic curve*, is a graphical plot that illustrates the performance of a binary classifier such as our Naive Bayes model.\n",
    "\n",
    "More info can be found in the course material and here: [https://en.wikipedia.org/wiki/Receiver_operating_characteristic](https://en.wikipedia.org/wiki/Receiver_operating_characteristic)\n",
    "\n",
    "Another good illustration by Google can be found here: [https://developers.google.com/machine-learning/crash-course/classification/roc-and-auc](https://developers.google.com/machine-learning/crash-course/classification/roc-and-auc)\n",
    "\n",
    "Now that we have a prediction model, we would want to try it out and test it using a ROC-curve."
   ]
  },
  {
   "cell_type": "markdown",
   "metadata": {},
   "source": [
    "### 8) True Positive Rate (TPR) and False Positive Rate (FPR)\n",
    "\n",
    "From our prediction function we get probabilities, and for prediction purposes we have just predicted the one with the highest probability.\n",
    "\n",
    "To plot a ROC-curve, we need the TPR and FPR for the binary classification. We will implement this here.\n",
    "\n",
    "**Note 1:** The threshold is is a value that goes from 0 to 1. \n",
    "\n",
    "**Note 2:** One of the two classes will be seen as \"the positive class\" (prediction over the threshold) and the other as \"the negative class\" (prediction under the threshold).\n",
    "\n",
    "**Note 3:** The threshold stepsize will decide the size of the returned TPR/FPR list. A value of 0.1 will give 10 elements (0 to 1 in increments of 0.1)"
   ]
  },
  {
   "cell_type": "code",
   "execution_count": 18,
   "metadata": {},
   "outputs": [
    {
     "name": "stdout",
     "output_type": "stream",
     "text": [
      "Python list: [0.0, 0.1, 0.2, 0.3, 0.4, 0.5, 0.6, 0.7, 0.8, 0.9]\n",
      "Numpy linspace: [0.  0.1 0.2 0.3 0.4 0.5 0.6 0.7 0.8 0.9 1. ]\n",
      "Numpy linspace (no endpoint): [0.  0.1 0.2 0.3 0.4 0.5 0.6 0.7 0.8 0.9]\n"
     ]
    }
   ],
   "source": [
    "# Stepsize demonstration\n",
    "print(\"Python list:\", [x/10 for x in range(0,10,1)])\n",
    "\n",
    "# Stepsize demonstration with numpy:\n",
    "print(\"Numpy linspace:\", np.linspace(0,1,11))\n",
    "print(\"Numpy linspace (no endpoint):\", np.linspace(0,1,10,endpoint=False))"
   ]
  },
  {
   "cell_type": "code",
   "execution_count": 19,
   "metadata": {},
   "outputs": [],
   "source": [
    "def TPR_and_FPR(prediction_probabilities, test_labels, threshold_stepsize = 0.1):\n",
    "\tthresholds = np.arange(0, 1, threshold_stepsize)\n",
    "\tTPR = []\n",
    "\tFPR = []\n",
    "\n",
    "\tfor threshold in thresholds:\n",
    "\t\tTP = FP = TN = FN = 0\n",
    "\t\t# TODO: Implement the rest of this function\n",
    "\t\tfor probability, label in zip(prediction_probabilities, test_labels):\n",
    "\t\t\tclass_prediction = probabilities_to_prediction(probability)\n",
    "\t\t\t# print(\"Predicted Class:\", class_prediction)\n",
    "\t\t\t# print(\"True Class:\", label)\n",
    "\t\t\t# print(\"Predicted Probability:\", probability[class_prediction])\n",
    "\t\t\t# print(\"Threshold:\", threshold)\n",
    "\t\t\tif probability[class_prediction] >= threshold:\n",
    "\t\t\t\tif label == int(class_prediction):\n",
    "\t\t\t\t\tTP += 1\n",
    "\t\t\t\telse:\n",
    "\t\t\t\t\tFP += 1\n",
    "\t\t\telse:\n",
    "\t\t\t\tif label == int(class_prediction):\n",
    "\t\t\t\t\tFN += 1\n",
    "\t\t\t\telse:\n",
    "\t\t\t\t\tTN += 1\n",
    "\t\t\t# print(\"TP:\", TP)\n",
    "\t\t\t# print(\"FP:\", FP)\n",
    "\t\t\t# print(\"TN:\", TN)\n",
    "\t\t\t# print(\"FN:\", FN)\n",
    "\n",
    "\t\tTPR.append(TP / (TP + FN) if (TP + FN) > 0 else 0)\n",
    "\t\tFPR.append(FP / (FP + TN) if (FP + TN) > 0 else 0)\n",
    "\t\t# print(\"TP:\", TP)\n",
    "\t\t# print(\"FP:\", FP)\n",
    "\t\t# print(\"TN:\", TN)\n",
    "\t\t# print(\"FN:\", FN)\n",
    "\t\t# print(\"TPR:\", TPR)\n",
    "\t\t# print(\"FPR:\", FPR)\n",
    "\n",
    "\treturn TPR, FPR"
   ]
  },
  {
   "cell_type": "code",
   "execution_count": 20,
   "metadata": {},
   "outputs": [
    {
     "name": "stdout",
     "output_type": "stream",
     "text": [
      "True Positive Rate (TPR): [1.0, 1.0, 1.0, 1.0, 1.0, 1.0, 1.0, 1.0, 1.0, 1.0]\n",
      "False Positive Rate (FPR): [0, 0, 0, 0, 0, 0, 0, 0, 0, 0]\n"
     ]
    }
   ],
   "source": [
    "# TODO: Test the \"TPR_and_FPR\" function on the model you have created previously.\n",
    "prediction_probabilities = [naive_bayes_prediction(class_statistics, data_point) for data_point in test_features]\n",
    "\n",
    "TPR, FPR = TPR_and_FPR(prediction_probabilities, test_labels)\n",
    "\n",
    "print(\"True Positive Rate (TPR):\", TPR)\n",
    "print(\"False Positive Rate (FPR):\", FPR)"
   ]
  },
  {
   "cell_type": "markdown",
   "metadata": {},
   "source": [
    "How does the values change if you change the threshold stepsize? \n",
    "\n",
    "How does the values change if you change the classes you compare?"
   ]
  },
  {
   "cell_type": "markdown",
   "metadata": {},
   "source": [
    "### 9) Plot the TPR and FPR\n",
    "\n",
    "To better see what is going on, we can plot the TPR and FPR. We can also calculate the Area Under the ROC Curve (AUC or AUROC) at the same time."
   ]
  },
  {
   "cell_type": "code",
   "execution_count": 21,
   "metadata": {},
   "outputs": [],
   "source": [
    "def plot_ROC(TPR, FPR):\n",
    "\n",
    "\t# TODO: Calculate the AUC score.\n",
    "\tAUC_score = np.trapezoid(TPR, FPR)\n",
    "\t# TODO: Plot the TPR and FPR using plt (matplotlib)\n",
    "\tplt.figure()\n",
    "\tplt.plot(FPR, TPR, label=f'ROC curve (area = {AUC_score:.2f})')\n",
    "\n",
    "\t# TODO: Add a \"middle-line\" in the plot. This can be seen as the \"better/worse than random\" line.\n",
    "\tplt.plot([0, 1], [0, 1], 'k--', label='Random guess')\n",
    "\n",
    "\tplt.xlabel('False Positive Rate')\n",
    "\tplt.ylabel('True Positive Rate')\n",
    "\tplt.title('Receiver Operating Characteristic (ROC) Curve')\n",
    "\tplt.legend(loc='lower right')\n",
    "\n",
    "\tplt.show()\n"
   ]
  },
  {
   "cell_type": "code",
   "execution_count": 22,
   "metadata": {},
   "outputs": [
    {
     "data": {
      "image/png": "[encoded data removed]",
      "text/plain": [
       "<Figure size 640x480 with 1 Axes>"
      ]
     },
     "metadata": {},
     "output_type": "display_data"
    }
   ],
   "source": [
    "# TODO: Test the plotting function on the TPR and FPR you just calculated.\n",
    "plot_ROC(TPR, FPR)"
   ]
  },
  {
   "cell_type": "markdown",
   "metadata": {},
   "source": [
    "## Cross-validation\n",
    "\n",
    "The final task is to take everything you have implemented so far and apply it in a cross-validation loop.\n",
    "\n",
    "**Note 1:** To better reflect a real scenarios, you should shuffle the data before doing cross-validation.\n",
    "\n",
    "**Note 2:** When using cross-validation, the interesting thing is the mean performance (mean AUC, mean accuracy, mean ROC-curve).\n",
    "\n",
    "**Note 3:** This part is a bit more free in terms of implementation, but make sure to use some of the previously implemented functions."
   ]
  },
  {
   "cell_type": "markdown",
   "metadata": {},
   "source": [
    "### 10) Cross-validation loop"
   ]
  },
  {
   "cell_type": "code",
   "execution_count": 23,
   "metadata": {},
   "outputs": [],
   "source": [
    "def cross_validation(data, target, folds = 10, threshold_stepsize = 0.1):\n",
    "\n",
    "    # TODO: Implement Cross-validation\n",
    "    \n",
    "    for i in range(folds):\n",
    "\n",
    "\n",
    "        ...\n",
    "\n",
    "    # TODO: Plot the average ROC-curve.\n",
    "    # NOTE: Take the correct average!\n",
    "\n",
    "    plot_ROC(...)"
   ]
  },
  {
   "cell_type": "markdown",
   "metadata": {},
   "source": [
    "### 11) 10-fold Cross-validation on all classes\n",
    "\n",
    "Test the \"cross_validation\" function on all the classes against eachother using 10 folds.\n",
    "\n",
    "* Iris-setosa vs Iris-versicolor\n",
    "* Iris-setosa vs Iris-virginica\n",
    "* Iris-versicolor vs Iris-virginica"
   ]
  },
  {
   "cell_type": "code",
   "execution_count": 24,
   "metadata": {},
   "outputs": [],
   "source": [
    "# TODO: Implement and test cross-validation function on all classes."
   ]
  },
  {
   "cell_type": "code",
   "execution_count": 25,
   "metadata": {},
   "outputs": [],
   "source": [
    "# TODO: Implement and test cross-validation function on all classes."
   ]
  },
  {
   "cell_type": "code",
   "execution_count": 26,
   "metadata": {},
   "outputs": [],
   "source": [
    "# TODO: Implement and test cross-validation function on all classes."
   ]
  },
  {
   "cell_type": "markdown",
   "metadata": {},
   "source": [
    "# Questions for examination:\n",
    "\n",
    "In addition to completing the assignment with all its tasks, you should also prepare to answer the following questions:\n",
    "\n",
    "1) Why is it called \"naive bayes\"?\n",
    "\n",
    "2) What are some downsides of the naive bayes learning algorithm?\n",
    "\n",
    "3) When using ROC-curves, what is the theoretical best and worst result you can get?\n",
    "\n",
    "4) When using ROC-curves, in this assignment for example, is a higher threshold-stepsize always better?  \n",
    "\n",
    "5) When using cross-validation and ROC-curves, why is it important to take the correct mean values? What could go wrong?\n"
   ]
  },
  {
   "cell_type": "markdown",
   "metadata": {},
   "source": [
    "# Finished!\n",
    "\n",
    "Was part of the setup incorrect? Did you spot any inconsistencies in the assignment? Could something improve?\n",
    "\n",
    "If so, please write them and send via email and send it to:\n",
    "\n",
    "* marcus.gullstrand@ju.se\n",
    "\n",
    "Thank you!"
   ]
  }
 ],
 "metadata": {
  "kernelspec": {
   "display_name": "Python 3",
   "language": "python",
   "name": "python3"
  },
  "language_info": {
   "codemirror_mode": {
    "name": "ipython",
    "version": 3
   },
   "file_extension": ".py",
   "mimetype": "text/x-python",
   "name": "python",
   "nbconvert_exporter": "python",
   "pygments_lexer": "ipython3",
   "version": "3.12.7"
  }
 },
 "nbformat": 4,
 "nbformat_minor": 2
}
